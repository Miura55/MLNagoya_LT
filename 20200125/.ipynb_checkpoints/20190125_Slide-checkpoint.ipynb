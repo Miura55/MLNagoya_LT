{
 "cells": [
  {
   "cell_type": "code",
   "execution_count": 3,
   "metadata": {
    "slideshow": {
     "slide_type": "skip"
    }
   },
   "outputs": [
    {
     "data": {
      "text/html": [
       "<link rel=\"stylesheet\" type=\"text/css\" href=\"style/template.css\">\n"
      ],
      "text/plain": [
       "<IPython.core.display.HTML object>"
      ]
     },
     "metadata": {},
     "output_type": "display_data"
    }
   ],
   "source": [
    "%%HTML\n",
    "<link rel=\"stylesheet\" type=\"text/css\" href=\"style/template.css\">"
   ]
  },
  {
   "cell_type": "markdown",
   "metadata": {
    "slideshow": {
     "slide_type": "slide"
    }
   },
   "source": [
    "# 今さらOpen MVを触ってみた ーその２ー\n",
    "\n",
    "## K.Miura"
   ]
  },
  {
   "cell_type": "markdown",
   "metadata": {
    "slideshow": {
     "slide_type": "subslide"
    }
   },
   "source": [
    "# 自己紹介\n",
    "- 三浦 耕生(こうき)\n",
    "- 大学院生、ロボット工学専攻\n",
    "- TechAcademyのジュニアメンター\n",
    "- Twitter: @k_miura_io\n",
    "- Facebook: koki.miura05"
   ]
  },
  {
   "cell_type": "markdown",
   "metadata": {
    "slideshow": {
     "slide_type": "slide"
    }
   },
   "source": [
    "# スライドのリンク\n"
   ]
  },
  {
   "cell_type": "markdown",
   "metadata": {
    "slideshow": {
     "slide_type": "slide"
    }
   },
   "source": [
    " ※このスライドはjupyter-notebookを使用しています"
   ]
  },
  {
   "cell_type": "code",
   "execution_count": 2,
   "metadata": {
    "slideshow": {
     "slide_type": "subslide"
    }
   },
   "outputs": [
    {
     "name": "stdout",
     "output_type": "stream",
     "text": [
      "Hello World\n"
     ]
    }
   ],
   "source": [
    "print(\"Hello World\")"
   ]
  },
  {
   "cell_type": "markdown",
   "metadata": {
    "slideshow": {
     "slide_type": "slide"
    }
   },
   "source": [
    "# さて、本題です"
   ]
  },
  {
   "cell_type": "markdown",
   "metadata": {
    "slideshow": {
     "slide_type": "slide"
    }
   },
   "source": [
    "# 前回までのあらすじ\n",
    "- kickstarterでOpen MVを買ったので遊んでみた\n",
    "- 小さいのに顔認識がサクサク動いて面白かった\n",
    "<div align=\"center\">\n",
    "<img src=\"./imgs/IMG_7078.jpeg\" width=30%>\n",
    "</div>"
   ]
  },
  {
   "cell_type": "markdown",
   "metadata": {
    "slideshow": {
     "slide_type": "slide"
    }
   },
   "source": [
    "# でその翌日"
   ]
  },
  {
   "cell_type": "markdown",
   "metadata": {
    "slideshow": {
     "slide_type": "subslide"
    }
   },
   "source": [
    "# 東京でイベントにてブース出展\n",
    "- 朝一の新幹線で東京で１日IBMのブースでお手伝い（詳しくは懇親会で）\n",
    "- その帰りに久々に秋葉原を散策してたらM5Stickを発見\n",
    "- 前から気になってたしつい買ってしまった\n",
    "<div align=\"center\">\n",
    "<img src=\"./imgs/img001.jpeg\" width=15%>\n",
    "</div>"
   ]
  },
  {
   "cell_type": "markdown",
   "metadata": {
    "slideshow": {
     "slide_type": "slide"
    }
   },
   "source": [
    "# というわけで"
   ]
  },
  {
   "cell_type": "markdown",
   "metadata": {
    "slideshow": {
     "slide_type": "slide"
    }
   },
   "source": [
    "# ~今さらOpen MVを触ってみた ーその２ー~\n",
    "# 今さらM5Stick-Vを触ってみた\n",
    "\n",
    "## K.Miura"
   ]
  },
  {
   "cell_type": "markdown",
   "metadata": {
    "slideshow": {
     "slide_type": "slide"
    }
   },
   "source": [
    "# Maker界隈でアツイM5シリーズ\n",
    "- 様々な機種があり、Twitterで遊んでみた投稿が多く存在する\n",
    "- M5Stick-Vでも画像認識を使った作品が豊富にある\n",
    "\n",
    "<div align=\"center\">\n",
    "    <img src=\"https://media.giphy.com/media/Tfp1lxLUrStcYv2Cud/giphy.gif\" width=\"15%\">\n",
    "</div>"
   ]
  },
  {
   "cell_type": "markdown",
   "metadata": {
    "slideshow": {
     "slide_type": "slide"
    }
   },
   "source": [
    "# どうやらM5Stick-V用のモデルを作成するサイトがあるらしい\n",
    "- その名も**V-Training**\n",
    "- トレーニング用のファームウェアで画像を撮影して、サイトにアップロードすると学習モデルをダウンロードして自作の画像分類機を簡単にできるらしい\n",
    "<div align=\"center\">\n",
    "    <img src=\"./imgs/V-traning.png\" width=\"50%\">\n",
    "</div>"
   ]
  },
  {
   "cell_type": "markdown",
   "metadata": {
    "slideshow": {
     "slide_type": "slide"
    }
   },
   "source": [
    "# 使ってみた"
   ]
  },
  {
   "cell_type": "markdown",
   "metadata": {
    "slideshow": {
     "slide_type": "subslide"
    }
   },
   "source": [
    "# その前に今回のネタ\n",
    "- 最近カルロス・ゴーンが何かと話題になっている\n",
    "- カルロス・ゴーンってMr.Beanと顔がよく似ている\n",
    "- この２人の顔を識別してみよう\n",
    "<div align=\"center\">\n",
    "<img src=\"./imgs/0035.jpg\">\n",
    "</div>"
   ]
  },
  {
   "cell_type": "markdown",
   "metadata": {
    "slideshow": {
     "slide_type": "slide"
    }
   },
   "source": [
    "# データ作成\n",
    "- スクレイピングでgoogleの画像検索で出てきた画像を取得\n",
    "- V-Traningを使う場合は1クラスあたり最低35枚の画像が必要\n",
    "- 最大10クラスを学習させることが可能"
   ]
  },
  {
   "cell_type": "code",
   "execution_count": null,
   "metadata": {
    "slideshow": {
     "slide_type": "slide"
    }
   },
   "outputs": [],
   "source": [
    "import argparse\n",
    "import json\n",
    "import os\n",
    "import urllib\n",
    "\n",
    "from bs4 import BeautifulSoup\n",
    "import requests\n",
    "from termcolor import cprint\n",
    "\n",
    "__version__ = \"1.0.0\"\n"
   ]
  },
  {
   "cell_type": "code",
   "execution_count": null,
   "metadata": {
    "slideshow": {
     "slide_type": "subslide"
    }
   },
   "outputs": [],
   "source": [
    "class GoogleImageSerch(object):\n",
    "    def __init__(self):\n",
    "        self.GOOGLE_IMAGE_SEARCH_URL = \"https://www.google.co.jp/search\"\n",
    "        self.session = requests.session()\n",
    "        self.session.headers.update(\n",
    "            {\n",
    "                \"User-Agent\": \"Mozilla/5.0 (X11; Linux x86_64; rv:10.0) \\\n",
    "                    Gecko/20100101 Firefox/10.0\"\n",
    "            }\n",
    "        )\n",
    "\n",
    "    def search(self, keyword, maximum):\n",
    "        print(f\"Searching {keyword}.\")\n",
    "        query = self.generate_query(keyword)\n",
    "        return self.serch_images(query, maximum)\n",
    "\n",
    "    def generate_query(self, keyword):\n",
    "        # search query generator\n",
    "        page = 0\n",
    "        while True:\n",
    "            params = urllib.parse.urlencode(\n",
    "                {\"q\": keyword, \"tbm\": \"isch\", \"ijn\": str(page)}\n",
    "            )\n",
    "\n",
    "            yield self.GOOGLE_IMAGE_SEARCH_URL + \"?\" + params\n",
    "            page += 1\n",
    "\n",
    "    def serch_images(self, generate_query, maximum):\n",
    "        results = []\n",
    "        total = 0\n",
    "        while True:\n",
    "            # search\n",
    "            html = self.session.get(next(generate_query)).text\n",
    "            soup = BeautifulSoup(html, \"lxml\")\n",
    "            elements = soup.select(\".rg_meta.notranslate\")\n",
    "            jsons = [json.loads(e.get_text()) for e in elements]\n",
    "            image_url_list = [js[\"ou\"] for js in jsons]\n",
    "\n",
    "            # add search results\n",
    "            if not image_url_list:\n",
    "                cprint(\"No more images.\", \"yellow\")\n",
    "                break\n",
    "            elif len(image_url_list) > maximum - total:\n",
    "                results += image_url_list[: maximum - total]\n",
    "                break\n",
    "            else:\n",
    "                results += image_url_list\n",
    "                total += len(image_url_list)\n",
    "\n",
    "        cprint(f\"Found {len(results)} images.\", \"green\")\n",
    "        return results\n"
   ]
  },
  {
   "cell_type": "code",
   "execution_count": null,
   "metadata": {
    "slideshow": {
     "slide_type": "subslide"
    }
   },
   "outputs": [],
   "source": [
    "def main(args):\n",
    "    os.makedirs(args.download_dir, exist_ok=True)\n",
    "    os.makedirs(os.path.join(args.download_dir, args.target_name), exist_ok=True)\n",
    "\n",
    "    google_image_serch = GoogleImageSerch()\n",
    "\n",
    "    # search images\n",
    "    results = google_image_serch.search(args.target_name, maximum=args.num_images)\n",
    "\n",
    "    # download\n",
    "    download_errors = []\n",
    "    for i, url in enumerate(results):\n",
    "        download_name = f\"{(i + 1):>0{max(4, len(str(args.num_images)))}}.jpg\"\n",
    "        download_path = os.path.join(args.download_dir, args.target_name, download_name)\n",
    "\n",
    "        if os.path.exists(download_path) and not args.is_overwrite:\n",
    "            print(f\"{download_path} is already exists.\")\n",
    "            download_errors.append(i + 1)\n",
    "            continue\n",
    "\n",
    "        print(f\"Downloading image {download_name}.\", end=\" \")\n",
    "        try:\n",
    "            urllib.request.urlretrieve(url, download_path)\n",
    "            cprint(\"Successful.\", \"green\")\n",
    "        except urllib.error.HTTPError:\n",
    "            cprint(\"Failed. (HTTP Error)\", \"yellow\")\n",
    "            download_errors.append(i + 1)\n",
    "            continue\n",
    "        except urllib.error.URLError:\n",
    "            cprint(\"Failed. (SSL Error)\", \"yellow\")\n",
    "            download_errors.append(i + 1)\n",
    "            continue\n",
    "        except UnicodeEncodeError:\n",
    "            cprint(\"Failed. (Encoding Error)\", \"yellow\")\n",
    "            download_errors.append(i + 1)\n",
    "            continue\n",
    "\n",
    "    cprint(\"Download complete.\", \"blue\")\n",
    "\n",
    "    cprint(f\"Successful: {len(results) - len(download_errors)} images.\", \"blue\")\n",
    "    if download_errors:\n",
    "        cprint(f\"Failed: {len(download_errors)} images.\", \"yellow\")\n"
   ]
  },
  {
   "cell_type": "code",
   "execution_count": null,
   "metadata": {
    "slideshow": {
     "slide_type": "subslide"
    }
   },
   "outputs": [],
   "source": [
    "if __name__ == \"__main__\":\n",
    "    cprint(\"-\" * 50, \"magenta\")\n",
    "    cprint((f\"Image Collector v{__version__}\").center(50), \"magenta\")\n",
    "    cprint(\"-\" * 50, \"magenta\")\n",
    "\n",
    "    parser = argparse.ArgumentParser(description=f\"Image Collector v{__version__}\")\n",
    "    parser.add_argument(\n",
    "        \"-t\",\n",
    "        \"--target\",\n",
    "        dest=\"target_name\",\n",
    "        help=\"Target name\",\n",
    "        type=str,\n",
    "        required=True,\n",
    "    )\n",
    "    parser.add_argument(\n",
    "        \"-n\",\n",
    "        \"--number\",\n",
    "        dest=\"num_images\",\n",
    "        help=\"Number of images\",\n",
    "        type=int,\n",
    "        required=True,\n",
    "    )\n",
    "    parser.add_argument(\n",
    "        \"-d\",\n",
    "        \"--directory\",\n",
    "        dest=\"download_dir\",\n",
    "        help=\"Download location\",\n",
    "        type=str,\n",
    "        default=\"./data\",\n",
    "    )\n",
    "    parser.add_argument(\n",
    "        \"-f\",\n",
    "        \"--force\",\n",
    "        dest=\"is_overwrite\",\n",
    "        action=\"store_true\",\n",
    "        help=\"Whether to overwrite existing files\",\n",
    "    )\n",
    "    args = parser.parse_args()\n",
    "\n",
    "    main(args)\n"
   ]
  },
  {
   "cell_type": "markdown",
   "metadata": {
    "slideshow": {
     "slide_type": "slide"
    }
   },
   "source": [
    "# Let's Take Photo\n",
    "- そのまま学習させてもいいけど、M5目線の画像を学習したいので、M5Stick-Vを撮影して学習\n",
    "- データ作成をするためのプログラムはV-TraningのサイトからダウンロードしてSDカードに保存して動かす\n",
    "- とりあえず最低量の35枚の画像を収集\n",
    "<div align=\"center\">\n",
    "<img src=\"./imgs/IMG_7358.JPG\" width=\"20%\">\n",
    "</div>"
   ]
  },
  {
   "cell_type": "markdown",
   "metadata": {
    "slideshow": {
     "slide_type": "slide"
    }
   },
   "source": [
    "# 画像データをアップロード\n",
    "- 専用のサイトへSDに保存されたデータセットを圧縮してアップロード\n",
    "- アップロードするとステータスIDを付与されて裏側で学習される\n",
    "- 学習が完了するとメールアドレスに学習したモデルと実行用のコードをセットで送られる\n",
    "<div align=\"center\">\n",
    "<img src=\"./imgs/0002.png\" width=\"50%\">\n",
    "</div>"
   ]
  },
  {
   "cell_type": "markdown",
   "metadata": {
    "slideshow": {
     "slide_type": "slide"
    }
   },
   "source": [
    "# 1回目の学習結果\n",
    "- データの質が悪い＆量が少ないせいで精度が悪かった\n",
    "- 「もう1回送ったほうがいいよ」と一言アドバイス ~（余計なお世話）~\n",
    "- 35枚の画像では精度がでるような仕様ではないようだ\n",
    "<div align=\"center\">\n",
    "<img src=\"./imgs/first_results.png\" width=\"50%\">\n",
    "</div>"
   ]
  },
  {
   "cell_type": "markdown",
   "metadata": {
    "slideshow": {
     "slide_type": "subslide"
    }
   },
   "source": [
    "# もう一度データを用意\n",
    "- 今度は画像を100枚用意して撮影\n",
    "- もちろんキーワードと関係ない画像も含まれているので実質学習に使えたのは60枚程度\n",
    "- あとは単純に疲れた（笑）"
   ]
  },
  {
   "cell_type": "markdown",
   "metadata": {},
   "source": [
    "# 2回目の学習結果\n",
    "<div align=\"center\">\n",
    "<img src=\"./imgs/new_results.png\" width=\"50%\">\n",
    "</div>\n"
   ]
  },
  {
   "cell_type": "code",
   "execution_count": 6,
   "metadata": {
    "slideshow": {
     "slide_type": "skip"
    }
   },
   "outputs": [],
   "source": [
    "from PIL import Image\n",
    "im1 = Image.open(\"./imgs/0006.png\")\n",
    "im2 = Image.open(\"./imgs/0005.png\")\n",
    "\n",
    "def get_concat_h(im1, im2):\n",
    "    dst = Image.new('RGB', (im1.width + im2.width, im1.height))\n",
    "    dst.paste(im1, (0, 0))\n",
    "    dst.paste(im2, (im1.width, 0))\n",
    "    return dst\n",
    "\n",
    "get_concat_h(im1, im2).save('./imgs/new_results.png')"
   ]
  },
  {
   "cell_type": "markdown",
   "metadata": {
    "slideshow": {
     "slide_type": "slide"
    }
   },
   "source": [
    "# END"
   ]
  }
 ],
 "metadata": {
  "celltoolbar": "Slideshow",
  "kernelspec": {
   "display_name": "Python 3",
   "language": "python",
   "name": "python3"
  },
  "language_info": {
   "codemirror_mode": {
    "name": "ipython",
    "version": 3
   },
   "file_extension": ".py",
   "mimetype": "text/x-python",
   "name": "python",
   "nbconvert_exporter": "python",
   "pygments_lexer": "ipython3",
   "version": "3.7.5"
  }
 },
 "nbformat": 4,
 "nbformat_minor": 2
}
