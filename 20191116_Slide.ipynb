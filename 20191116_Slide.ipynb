{
 "cells": [
  {
   "cell_type": "markdown",
   "metadata": {
    "slideshow": {
     "slide_type": "slide"
    }
   },
   "source": [
    "# 今さらOpen MVを触ってみた\n",
    "K.Miura"
   ]
  },
  {
   "cell_type": "markdown",
   "metadata": {
    "slideshow": {
     "slide_type": "subslide"
    }
   },
   "source": [
    "# 自己紹介\n",
    "- 三浦 耕生(こうき)\n",
    "- 大学院生、ロボット工学専攻\n",
    "- Code for AICHI所属\n",
    "- Twitter: @k_miura_io\n",
    "- Facebook: koki.miura05"
   ]
  },
  {
   "cell_type": "markdown",
   "metadata": {
    "slideshow": {
     "slide_type": "slide"
    }
   },
   "source": [
    "※このスライドはjupyter-notebookを使用しています"
   ]
  },
  {
   "cell_type": "code",
   "execution_count": null,
   "metadata": {
    "slideshow": {
     "slide_type": "subslide"
    }
   },
   "outputs": [],
   "source": [
    "print(\"Hello World\")"
   ]
  },
  {
   "cell_type": "markdown",
   "metadata": {
    "slideshow": {
     "slide_type": "slide"
    }
   },
   "source": [
    "# さて、本題です"
   ]
  },
  {
   "cell_type": "markdown",
   "metadata": {
    "slideshow": {
     "slide_type": "slide"
    }
   },
   "source": [
    "# kickstarterにてOpen MVを購入\n",
    "- 1年前にOpen MVを購入し、今年の4月に到着\n",
    "- その2ヶ月後にそれより安いM○SrickVが出てきてしまい、後悔…（49ドルで購入）\n",
    "- 最近エッジコンピューティングが流行っているし、触ってみたい\n",
    "<img src=\"./imgs/IMG_6924.jpg\" width=25%>"
   ]
  },
  {
   "cell_type": "markdown",
   "metadata": {
    "slideshow": {
     "slide_type": "slide"
    }
   },
   "source": [
    "# とりあえず触ってみた"
   ]
  },
  {
   "cell_type": "markdown",
   "metadata": {
    "slideshow": {
     "slide_type": "slide"
    }
   },
   "source": [
    "# Open MVについて\n",
    "- micro pythonで動作するマシンビジョンに特化したボード\n",
    "- 専用の開発環境をインストールするだけでセットアップができる\n",
    "- ピンヘッダもついているのでボードの拡張も可能\n",
    "- レンズの変換が可能（赤外線カメラ、広角レンズなど）\n",
    "- ARM Cortex M7搭載"
   ]
  },
  {
   "cell_type": "markdown",
   "metadata": {
    "slideshow": {
     "slide_type": "slide"
    }
   },
   "source": [
    "# 開封の儀\n",
    "\n",
    "- レンズにはキャップがついている\n",
    "- 今回はケースも注文\n",
    "\n",
    "<img src=\"./imgs/IMG_7078.jpeg\" width=25%>\n"
   ]
  },
  {
   "cell_type": "markdown",
   "metadata": {
    "slideshow": {
     "slide_type": "slide"
    }
   },
   "source": [
    "# セットアップ\n",
    "- 下記のリンクからOSに合わせて開発環境をインストール  \n",
    "https://openmv.io/pages/download\n",
    " \n",
    "- 今回はMacでセットアップ\n",
    "<img src=\"./imgs/img_00.png\" >"
   ]
  },
  {
   "cell_type": "markdown",
   "metadata": {
    "slideshow": {
     "slide_type": "slide"
    }
   },
   "source": [
    "# 起動\n",
    "- 起動するとエディタ画面が表示されれている\n",
    "- すでにサンプルコードがある\n",
    "<img src=\"./imgs/img_01.png\"  width=70%>"
   ]
  },
  {
   "cell_type": "markdown",
   "metadata": {
    "slideshow": {
     "slide_type": "slide"
    }
   },
   "source": [
    "# お約束のHello World\n",
    "- まずはサンプルコードを実行する\n",
    "- ファームウェアが最新でない場合はアップデート（画面下に【最新】と表示されていればOK）\n",
    "- カメラの画像を右上に表示、ターミナルにはFPSが出力されている\n",
    "<img src=\"./imgs/img_02.png\"  width=50%>"
   ]
  },
  {
   "cell_type": "markdown",
   "metadata": {
    "slideshow": {
     "slide_type": "slide"
    }
   },
   "source": [
    "# 他に何かやってみた\n",
    "- 他のデモを探してみたらArduinoみたいにたくさんサンプルがあった\n",
    "- 機械学習名古屋っぽいデモを探してみた（手抜きですいません…）\n",
    "<img src=\"./imgs/img_03.png\"  width=70%>"
   ]
  },
  {
   "cell_type": "markdown",
   "metadata": {
    "slideshow": {
     "slide_type": "slide"
    }
   },
   "source": [
    "# 顔認識をしてみた\n",
    "- デフォルトでカスケードファイルがあり、そこから顔認識ができる（らしい）\n",
    "- 遅延、カクツキなくサクサク動く\n",
    "<img src=\"./imgs/img_04.png\"  width=50%>"
   ]
  },
  {
   "cell_type": "markdown",
   "metadata": {
    "slideshow": {
     "slide_type": "slide"
    }
   },
   "source": [
    "# デモ"
   ]
  },
  {
   "cell_type": "code",
   "execution_count": null,
   "metadata": {
    "slideshow": {
     "slide_type": "slide"
    }
   },
   "outputs": [],
   "source": [
    "# 顔認識のサンプル\n",
    "import sensor, time, image\n",
    "\n",
    "# Reset sensor\n",
    "sensor.reset()\n",
    "\n",
    "# Sensor settings\n",
    "sensor.set_contrast(1)\n",
    "sensor.set_gainceiling(16)\n",
    "# HQVGA and GRAYSCALE are the best for face tracking.\n",
    "sensor.set_framesize(sensor.HQVGA)\n",
    "sensor.set_pixformat(sensor.GRAYSCALE)\n",
    "\n",
    "# Load Haar Cascade\n",
    "# By default this will use all stages, lower satges is faster but less accurate.\n",
    "face_cascade = image.HaarCascade(\"frontalface\", stages=25)\n",
    "print(face_cascade)\n",
    "\n",
    "# FPS clock\n",
    "clock = time.clock()"
   ]
  },
  {
   "cell_type": "code",
   "execution_count": null,
   "metadata": {
    "slideshow": {
     "slide_type": "slide"
    }
   },
   "outputs": [],
   "source": [
    "while (True):\n",
    "    clock.tick()\n",
    "\n",
    "    # Capture snapshot\n",
    "    img = sensor.snapshot()\n",
    "\n",
    "    # Find objects.\n",
    "    # Note: Lower scale factor scales-down the image more and detects smaller objects.\n",
    "    # Higher threshold results in a higher detection rate, with more false positives.\n",
    "    objects = img.find_features(face_cascade, threshold=0.75, scale_factor=1.25)\n",
    "\n",
    "    # Draw objects\n",
    "    for r in objects:\n",
    "        img.draw_rectangle(r)\n",
    "\n",
    "    # Print FPS.\n",
    "    # Note: Actual FPS is higher, streaming the FB makes it slower.\n",
    "    print(clock.fps())"
   ]
  },
  {
   "cell_type": "markdown",
   "metadata": {
    "slideshow": {
     "slide_type": "slide"
    }
   },
   "source": [
    "# あれ？Open CVと似てね？"
   ]
  },
  {
   "cell_type": "markdown",
   "metadata": {
    "slideshow": {
     "slide_type": "slide"
    }
   },
   "source": [
    "# まとめ・今後の展望\n",
    "- 最近流行りのエッジコンピューティングを今さら体験した\n",
    "- 小さいのに思いの他サクサク動いた（顔認識時でもFPSは20前後）\n",
    "- 今後は自作の学習モデルをOpenMV上で動かしてみたい（そもそも自作の学習モデル作ったことないw）\n",
    "- トラッキングを取り入れたロボットを使ってみたい（願望）\n",
    "- それでも値段が高い→M○StickVほしい…"
   ]
  },
  {
   "cell_type": "markdown",
   "metadata": {
    "slideshow": {
     "slide_type": "slide"
    }
   },
   "source": [
    "# END"
   ]
  }
 ],
 "metadata": {
  "celltoolbar": "Slideshow",
  "kernelspec": {
   "display_name": "Python 3",
   "language": "python",
   "name": "python3"
  },
  "language_info": {
   "codemirror_mode": {
    "name": "ipython",
    "version": 3
   },
   "file_extension": ".py",
   "mimetype": "text/x-python",
   "name": "python",
   "nbconvert_exporter": "python",
   "pygments_lexer": "ipython3",
   "version": "3.7.0"
  }
 },
 "nbformat": 4,
 "nbformat_minor": 2
}
